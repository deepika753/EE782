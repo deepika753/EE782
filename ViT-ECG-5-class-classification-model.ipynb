{
  "nbformat": 4,
  "nbformat_minor": 0,
  "metadata": {
    "colab": {
      "provenance": [],
      "gpuType": "T4"
    },
    "kernelspec": {
      "name": "python3",
      "display_name": "Python 3"
    },
    "language_info": {
      "name": "python"
    },
    "accelerator": "GPU"
  },
  "cells": [
    {
      "cell_type": "markdown",
      "source": [
        "### Load Processed Dataset"
      ],
      "metadata": {
        "id": "1HaAl9sHVPw3"
      }
    },
    {
      "cell_type": "code",
      "execution_count": 1,
      "metadata": {
        "colab": {
          "base_uri": "https://localhost:8080/"
        },
        "id": "61zUzHfXBifB",
        "outputId": "6a102114-3851-437e-9ea8-c60271e54503"
      },
      "outputs": [
        {
          "output_type": "stream",
          "name": "stdout",
          "text": [
            "Mounted at /content/gdrive\n"
          ]
        }
      ],
      "source": [
        "from google.colab import drive\n",
        "\n",
        "drive.mount('/content/gdrive')"
      ]
    },
    {
      "cell_type": "code",
      "source": [
        "!mkdir \"/content/PTB_XL_DATASET\"\n",
        "!cp /content/gdrive/MyDrive/ecg-data/ecg_x_train_exclude_fold_3_10.npy /content/gdrive/MyDrive/ecg-data/ecg_y_train_exclude_fold_3_10.npy \"/content/PTB_XL_DATASET\"\n",
        "!cp /content/gdrive/MyDrive/ecg-data/ecg_x_test_fold_10.npy /content/gdrive/MyDrive/ecg-data/ecg_y_test_fold_10.npy \"/content/PTB_XL_DATASET\"\n",
        "!cp /content/gdrive/MyDrive/ecg-data/ecg_x_final_test_fold_3.npy /content/gdrive/MyDrive/ecg-data/ecg_y_final_test_fold_3.npy \"/content/PTB_XL_DATASET\""
      ],
      "metadata": {
        "id": "3valEG55D1l5"
      },
      "execution_count": 2,
      "outputs": []
    },
    {
      "cell_type": "code",
      "source": [
        "!pip install wfdb tensorflow_addons -q"
      ],
      "metadata": {
        "colab": {
          "base_uri": "https://localhost:8080/"
        },
        "id": "eiut_DEAF4TS",
        "outputId": "b5b1260d-47df-4325-bc04-469c1e0c879b"
      },
      "execution_count": 4,
      "outputs": [
        {
          "output_type": "stream",
          "name": "stdout",
          "text": [
            "\u001b[2K     \u001b[90m━━━━━━━━━━━━━━━━━━━━━━━━━━━━━━━━━━━━━━━━\u001b[0m \u001b[32m160.0/160.0 kB\u001b[0m \u001b[31m2.5 MB/s\u001b[0m eta \u001b[36m0:00:00\u001b[0m\n",
            "\u001b[2K     \u001b[90m━━━━━━━━━━━━━━━━━━━━━━━━━━━━━━━━━━━━━━━━\u001b[0m \u001b[32m611.8/611.8 kB\u001b[0m \u001b[31m22.7 MB/s\u001b[0m eta \u001b[36m0:00:00\u001b[0m\n",
            "\u001b[?25h"
          ]
        }
      ]
    },
    {
      "cell_type": "code",
      "source": [
        "# import tensorflow as tf\n",
        "# tf.config.list_physical_devices()"
      ],
      "metadata": {
        "id": "IdGyFLVSElfr"
      },
      "execution_count": 24,
      "outputs": []
    },
    {
      "cell_type": "code",
      "source": [
        "# tf.config.set_visible_devices(tf.config.list_physical_devices('GPU')[0], 'GPU')"
      ],
      "metadata": {
        "id": "T_2bNttUMNNH"
      },
      "execution_count": 25,
      "outputs": []
    },
    {
      "cell_type": "markdown",
      "source": [
        "### Training"
      ],
      "metadata": {
        "id": "rGbUqdWYVeuc"
      }
    },
    {
      "cell_type": "code",
      "source": [
        "!python train.py \"/content/PTB_XL_DATASET\""
      ],
      "metadata": {
        "colab": {
          "base_uri": "https://localhost:8080/"
        },
        "id": "lFwe6EgDEVH7",
        "outputId": "57e1cacc-815a-4662-8515-26b2709aeefe"
      },
      "execution_count": 19,
      "outputs": [
        {
          "output_type": "stream",
          "name": "stdout",
          "text": [
            "2023-11-29 17:27:13.114829: E tensorflow/compiler/xla/stream_executor/cuda/cuda_dnn.cc:9342] Unable to register cuDNN factory: Attempting to register factory for plugin cuDNN when one has already been registered\n",
            "2023-11-29 17:27:13.114891: E tensorflow/compiler/xla/stream_executor/cuda/cuda_fft.cc:609] Unable to register cuFFT factory: Attempting to register factory for plugin cuFFT when one has already been registered\n",
            "2023-11-29 17:27:13.114932: E tensorflow/compiler/xla/stream_executor/cuda/cuda_blas.cc:1518] Unable to register cuBLAS factory: Attempting to register factory for plugin cuBLAS when one has already been registered\n",
            "2023-11-29 17:27:14.200337: W tensorflow/compiler/tf2tensorrt/utils/py_utils.cc:38] TF-TRT Warning: Could not find TensorRT\n",
            "/usr/local/lib/python3.10/dist-packages/tensorflow_addons/utils/tfa_eol_msg.py:23: UserWarning: \n",
            "\n",
            "TensorFlow Addons (TFA) has ended development and introduction of new features.\n",
            "TFA has entered a minimal maintenance and release mode until a planned end of life in May 2024.\n",
            "Please modify downstream libraries to take dependencies from other repositories in our TensorFlow community (e.g. Keras, Keras-CV, and Keras-NLP). \n",
            "\n",
            "For more information see: https://github.com/tensorflow/addons/issues/2807 \n",
            "\n",
            "  warnings.warn(\n",
            "2023-11-29 17:27:18.609118: W tensorflow/core/common_runtime/gpu/gpu_bfc_allocator.cc:47] Overriding orig_value setting because the TF_FORCE_GPU_ALLOW_GROWTH environment variable is set. Original config value was 0.\n",
            "2023-11-29 17:27:18.610270: W tensorflow/tsl/framework/cpu_allocator_impl.cc:83] Allocation of 1245504000 exceeds 10% of free system memory.\n",
            "2023-11-29 17:27:20.097324: W tensorflow/tsl/framework/cpu_allocator_impl.cc:83] Allocation of 1245504000 exceeds 10% of free system memory.\n",
            "2023-11-29 17:27:21.560653: W tensorflow/tsl/framework/cpu_allocator_impl.cc:83] Allocation of 158400000 exceeds 10% of free system memory.\n",
            "2023-11-29 17:27:21.731224: W tensorflow/tsl/framework/cpu_allocator_impl.cc:83] Allocation of 158400000 exceeds 10% of free system memory.\n",
            "2023-11-29 17:27:23.680216: W tensorflow/tsl/framework/cpu_allocator_impl.cc:83] Allocation of 1245504000 exceeds 10% of free system memory.\n",
            "Epoch 1/25\n",
            "406/406 [==============================] - 56s 86ms/step - loss: 0.3359 - roc_auc: 0.8710 - val_loss: 0.2954 - val_roc_auc: 0.9038\n",
            "Epoch 2/25\n",
            "406/406 [==============================] - 34s 83ms/step - loss: 0.2651 - roc_auc: 0.9232 - val_loss: 0.2771 - val_roc_auc: 0.9177\n",
            "Epoch 3/25\n",
            "406/406 [==============================] - 34s 83ms/step - loss: 0.2400 - roc_auc: 0.9375 - val_loss: 0.2854 - val_roc_auc: 0.9151\n",
            "Epoch 4/25\n",
            "406/406 [==============================] - 33s 81ms/step - loss: 0.2263 - roc_auc: 0.9446 - val_loss: 0.2680 - val_roc_auc: 0.9241\n",
            "Epoch 5/25\n",
            "406/406 [==============================] - 34s 83ms/step - loss: 0.2154 - roc_auc: 0.9500 - val_loss: 0.2721 - val_roc_auc: 0.9249\n",
            "Epoch 6/25\n",
            "406/406 [==============================] - 34s 83ms/step - loss: 0.2062 - roc_auc: 0.9536 - val_loss: 0.2663 - val_roc_auc: 0.9282\n",
            "Epoch 7/25\n",
            "406/406 [==============================] - 33s 80ms/step - loss: 0.1947 - roc_auc: 0.9593 - val_loss: 0.3451 - val_roc_auc: 0.9063\n",
            "Epoch 8/25\n",
            "406/406 [==============================] - 33s 81ms/step - loss: 0.1868 - roc_auc: 0.9625 - val_loss: 0.2829 - val_roc_auc: 0.9154\n",
            "Epoch 9/25\n",
            "406/406 [==============================] - 33s 81ms/step - loss: 0.1745 - roc_auc: 0.9674 - val_loss: 0.2711 - val_roc_auc: 0.9262\n",
            "Epoch 10/25\n",
            "406/406 [==============================] - 33s 80ms/step - loss: 0.1671 - roc_auc: 0.9700 - val_loss: 0.2729 - val_roc_auc: 0.9220\n",
            "Epoch 11/25\n",
            "406/406 [==============================] - 33s 81ms/step - loss: 0.1572 - roc_auc: 0.9732 - val_loss: 0.3042 - val_roc_auc: 0.9239\n",
            "Epoch 12/25\n",
            "406/406 [==============================] - 34s 83ms/step - loss: 0.1540 - roc_auc: 0.9744 - val_loss: 0.2918 - val_roc_auc: 0.9176\n",
            "Epoch 13/25\n",
            "406/406 [==============================] - 33s 81ms/step - loss: 0.1402 - roc_auc: 0.9788 - val_loss: 0.3021 - val_roc_auc: 0.9167\n",
            "Epoch 14/25\n",
            "406/406 [==============================] - 33s 81ms/step - loss: 0.1329 - roc_auc: 0.9808 - val_loss: 0.3283 - val_roc_auc: 0.9129\n",
            "Epoch 15/25\n",
            "406/406 [==============================] - 33s 80ms/step - loss: 0.1219 - roc_auc: 0.9840 - val_loss: 0.3409 - val_roc_auc: 0.9097\n",
            "Epoch 16/25\n",
            "406/406 [==============================] - 33s 81ms/step - loss: 0.1133 - roc_auc: 0.9858 - val_loss: 0.3488 - val_roc_auc: 0.9152\n",
            "Epoch 17/25\n",
            "406/406 [==============================] - 33s 80ms/step - loss: 0.1085 - roc_auc: 0.9875 - val_loss: 0.3202 - val_roc_auc: 0.9136\n",
            "Epoch 18/25\n",
            "406/406 [==============================] - 34s 83ms/step - loss: 0.0961 - roc_auc: 0.9898 - val_loss: 0.3572 - val_roc_auc: 0.9106\n",
            "Epoch 19/25\n",
            "406/406 [==============================] - 34s 85ms/step - loss: 0.0894 - roc_auc: 0.9908 - val_loss: 0.3940 - val_roc_auc: 0.9018\n",
            "Epoch 20/25\n",
            "406/406 [==============================] - 33s 81ms/step - loss: 0.0795 - roc_auc: 0.9927 - val_loss: 0.3827 - val_roc_auc: 0.9023\n",
            "Epoch 21/25\n",
            "406/406 [==============================] - 34s 83ms/step - loss: 0.0786 - roc_auc: 0.9930 - val_loss: 0.3801 - val_roc_auc: 0.9037\n",
            "Epoch 22/25\n",
            "406/406 [==============================] - 34s 82ms/step - loss: 0.0723 - roc_auc: 0.9939 - val_loss: 0.4112 - val_roc_auc: 0.8913\n",
            "Epoch 23/25\n",
            "406/406 [==============================] - 33s 81ms/step - loss: 0.0691 - roc_auc: 0.9946 - val_loss: 0.4177 - val_roc_auc: 0.9029\n",
            "Epoch 24/25\n",
            "406/406 [==============================] - 33s 81ms/step - loss: 0.0609 - roc_auc: 0.9956 - val_loss: 0.4043 - val_roc_auc: 0.8984\n",
            "Epoch 25/25\n",
            "406/406 [==============================] - 33s 80ms/step - loss: 0.0567 - roc_auc: 0.9965 - val_loss: 0.4565 - val_roc_auc: 0.8925\n"
          ]
        }
      ]
    },
    {
      "cell_type": "markdown",
      "source": [
        "### Saving trained Model on local/drive"
      ],
      "metadata": {
        "id": "ZmyTwFNIVhhM"
      }
    },
    {
      "cell_type": "code",
      "source": [
        "!cp -r \"vit_ecg_model\" /content/gdrive/MyDrive/ecg-data/"
      ],
      "metadata": {
        "id": "7V8jSAwIPQX5"
      },
      "execution_count": 21,
      "outputs": []
    },
    {
      "cell_type": "code",
      "source": [
        "# !zip -r vit_ecg_model.zip vit_ecg_model/"
      ],
      "metadata": {
        "id": "RoJ2s9-hpMVB"
      },
      "execution_count": 35,
      "outputs": []
    },
    {
      "cell_type": "code",
      "source": [
        "# !cp -r \"vit_ecg_model.zip\" /content/gdrive/MyDrive/ecg-data/"
      ],
      "metadata": {
        "id": "lAy0TcYDpZd4"
      },
      "execution_count": 36,
      "outputs": []
    },
    {
      "cell_type": "markdown",
      "source": [
        "### Load Saved Model"
      ],
      "metadata": {
        "id": "pmMDlmoTV1EU"
      }
    },
    {
      "cell_type": "code",
      "source": [
        "import tensorflow as tf\n",
        "\n",
        "# Specify the path to your saved model\n",
        "model_path = 'vit_ecg_model'\n",
        "\n",
        "# Load the model\n",
        "loaded_model = tf.keras.models.load_model(model_path)\n",
        "\n",
        "# Display the model summary\n",
        "loaded_model.summary()"
      ],
      "metadata": {
        "colab": {
          "base_uri": "https://localhost:8080/"
        },
        "id": "syFNIvD5qlYR",
        "outputId": "a8ddf75f-fc87-4749-80c7-290b6b78934e"
      },
      "execution_count": 26,
      "outputs": [
        {
          "output_type": "stream",
          "name": "stdout",
          "text": [
            "Model: \"vision_transformer\"\n",
            "_________________________________________________________________\n",
            " Layer (type)                Output Shape              Param #   \n",
            "=================================================================\n",
            " vi_t_embeddings (ViTEmbedd  multiple                  225024    \n",
            " ings)                                                           \n",
            "                                                                 \n",
            " block (Block)               multiple                  2756608   \n",
            "                                                                 \n",
            " block_1 (Block)             multiple                  2756608   \n",
            "                                                                 \n",
            " block_2 (Block)             multiple                  2756608   \n",
            "                                                                 \n",
            " block_3 (Block)             multiple                  2756608   \n",
            "                                                                 \n",
            " block_4 (Block)             multiple                  2756608   \n",
            "                                                                 \n",
            " block_5 (Block)             multiple                  2756608   \n",
            "                                                                 \n",
            " layer_normalization_12 (La  multiple                  1536      \n",
            " yerNormalization)                                               \n",
            "                                                                 \n",
            " dense (Dense)               multiple                  3845      \n",
            "                                                                 \n",
            "=================================================================\n",
            "Total params: 16770053 (63.97 MB)\n",
            "Trainable params: 16770053 (63.97 MB)\n",
            "Non-trainable params: 0 (0.00 Byte)\n",
            "_________________________________________________________________\n"
          ]
        }
      ]
    },
    {
      "cell_type": "markdown",
      "source": [
        "### Model Testing on Test Set"
      ],
      "metadata": {
        "id": "y88kn5fWLkpU"
      }
    },
    {
      "cell_type": "code",
      "source": [
        "# load test dataset\n",
        "\n",
        "import numpy as np\n",
        "final_x_test = np.load(\"/content/PTB_XL_DATASET/ecg_x_final_test_fold_3.npy\")"
      ],
      "metadata": {
        "id": "xs5u1iihrCMZ"
      },
      "execution_count": 27,
      "outputs": []
    },
    {
      "cell_type": "code",
      "source": [
        "predicted_labels = loaded_model.predict(final_x_test)\n",
        "predicted_labels_ix = np.argmax(predicted_labels, axis=1)\n",
        "\n",
        "# Define the original labels\n",
        "original_labels = ['CD', 'HYP', 'MI', 'NORM', 'STTC']\n",
        "\n",
        "# Map the index to the original labels\n",
        "predicted_labels_enc = [original_labels[index] for index in predicted_labels_ix]\n",
        "predicted_labels_enc = np.array(predicted_labels_enc)"
      ],
      "metadata": {
        "id": "2X7_N9u9Mi76",
        "colab": {
          "base_uri": "https://localhost:8080/"
        },
        "outputId": "e30db10d-e971-47c9-a6f2-94fa69fb3676"
      },
      "execution_count": 48,
      "outputs": [
        {
          "output_type": "stream",
          "name": "stdout",
          "text": [
            "51/51 [==============================] - 2s 32ms/step\n"
          ]
        }
      ]
    },
    {
      "cell_type": "code",
      "source": [
        "final_y_test = np.load(\"/content/PTB_XL_DATASET/ecg_y_final_test_fold_3.npy\", allow_pickle=True)"
      ],
      "metadata": {
        "id": "IgbxNMVqq_hc"
      },
      "execution_count": 29,
      "outputs": []
    },
    {
      "cell_type": "code",
      "source": [
        "final_y_test"
      ],
      "metadata": {
        "colab": {
          "base_uri": "https://localhost:8080/"
        },
        "id": "SfQjNJGZq_fj",
        "outputId": "2b4fa9a0-9297-4d56-9d99-30eb075cf448"
      },
      "execution_count": 30,
      "outputs": [
        {
          "output_type": "execute_result",
          "data": {
            "text/plain": [
              "array(['NORM', 'NORM', 'NORM', ..., 'STTC', 'NORM', 'NORM'], dtype=object)"
            ]
          },
          "metadata": {},
          "execution_count": 30
        }
      ]
    },
    {
      "cell_type": "code",
      "source": [
        "from sklearn.metrics import accuracy_score, roc_auc_score"
      ],
      "metadata": {
        "id": "fOf-b4cjtqDJ"
      },
      "execution_count": 31,
      "outputs": []
    },
    {
      "cell_type": "markdown",
      "source": [
        "### Accuracy"
      ],
      "metadata": {
        "id": "_y7x0P-LY0u1"
      }
    },
    {
      "cell_type": "code",
      "source": [
        "accuracy_score(final_y_test, predicted_labels_enc)"
      ],
      "metadata": {
        "colab": {
          "base_uri": "https://localhost:8080/"
        },
        "id": "bHT1tEUaq_dS",
        "outputId": "e2a2cfe9-050f-4aaa-ca02-76cad1e7ff8f"
      },
      "execution_count": 51,
      "outputs": [
        {
          "output_type": "execute_result",
          "data": {
            "text/plain": [
              "0.7308641975308642"
            ]
          },
          "metadata": {},
          "execution_count": 51
        }
      ]
    },
    {
      "cell_type": "markdown",
      "source": [
        "### AUC ROC Score"
      ],
      "metadata": {
        "id": "p-J5Jz7HY23u"
      }
    },
    {
      "cell_type": "code",
      "source": [
        "import numpy as np\n",
        "\n",
        "def batch_convert_to_one_hot(batch_predicted_values):\n",
        "    batch_one_hot_encoded = []\n",
        "    for predicted_values in batch_predicted_values:\n",
        "        max_index = np.argmax(predicted_values)\n",
        "        one_hot_encoded = np.zeros_like(predicted_values)\n",
        "        one_hot_encoded[max_index] = 1\n",
        "        batch_one_hot_encoded.append(one_hot_encoded)\n",
        "    return np.array(batch_one_hot_encoded)\n",
        "\n",
        "\n",
        "final_y_test_encoded_values = batch_convert_to_one_hot(predicted_labels)"
      ],
      "metadata": {
        "id": "LXQVinoHYUTk"
      },
      "execution_count": 45,
      "outputs": []
    },
    {
      "cell_type": "code",
      "source": [
        "final_y_test_encoded_values"
      ],
      "metadata": {
        "colab": {
          "base_uri": "https://localhost:8080/"
        },
        "id": "yAZ5mqLCYk0_",
        "outputId": "46fb6380-2ef4-4a18-eeb8-44b3e87bd348"
      },
      "execution_count": 46,
      "outputs": [
        {
          "output_type": "execute_result",
          "data": {
            "text/plain": [
              "array([[0., 0., 0., 1., 0.],\n",
              "       [0., 0., 0., 1., 0.],\n",
              "       [0., 0., 0., 1., 0.],\n",
              "       ...,\n",
              "       [0., 0., 0., 0., 1.],\n",
              "       [0., 1., 0., 0., 0.],\n",
              "       [0., 0., 0., 1., 0.]], dtype=float32)"
            ]
          },
          "metadata": {},
          "execution_count": 46
        }
      ]
    },
    {
      "cell_type": "code",
      "source": [
        "# Transform test data into numeric format\n",
        "from tensorflow.keras.utils import to_categorical\n",
        "from sklearn.preprocessing import LabelEncoder\n",
        "\n",
        "# Initialize the LabelEncoder\n",
        "le = LabelEncoder()\n",
        "\n",
        "# Fit on final_y_test labels\n",
        "le.fit(final_y_test)\n",
        "\n",
        "# Transform\n",
        "final_y_test_enc = le.transform(final_y_test)\n",
        "\n",
        "final_y_test_cat = to_categorical(final_y_test_enc)"
      ],
      "metadata": {
        "id": "_q44elIBW-Xb"
      },
      "execution_count": 40,
      "outputs": []
    },
    {
      "cell_type": "code",
      "source": [
        "roc_auc_score(final_y_test_cat, final_y_test_encoded_values)"
      ],
      "metadata": {
        "colab": {
          "base_uri": "https://localhost:8080/"
        },
        "id": "8qwWieIQL13N",
        "outputId": "65f14569-58a5-4b68-86db-0e836fc21853"
      },
      "execution_count": 47,
      "outputs": [
        {
          "output_type": "execute_result",
          "data": {
            "text/plain": [
              "0.7421573369184676"
            ]
          },
          "metadata": {},
          "execution_count": 47
        }
      ]
    },
    {
      "cell_type": "code",
      "source": [
        "# !pip freeze > reqs.txt"
      ],
      "metadata": {
        "id": "Z0MGt68qUOls"
      },
      "execution_count": 34,
      "outputs": []
    },
    {
      "cell_type": "code",
      "source": [],
      "metadata": {
        "id": "weC_Y-yWUQ8e"
      },
      "execution_count": null,
      "outputs": []
    }
  ]
}